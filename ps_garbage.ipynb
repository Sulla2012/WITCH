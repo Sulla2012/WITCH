{
 "cells": [
  {
   "cell_type": "code",
   "execution_count": 1,
   "metadata": {},
   "outputs": [],
   "source": [
    "import numpy as np\n",
    "\n",
    "from astropy.io import fits\n",
    "from astropy.coordinates import SkyCoord, Angle\n",
    "from astropy import wcs\n",
    "from astropy import units as u\n",
    "\n",
    "from matplotlib import pyplot as plt\n",
    "\n",
    "from scipy.optimize import curve_fit, leastsq"
   ]
  },
  {
   "cell_type": "code",
   "execution_count": 2,
   "metadata": {},
   "outputs": [],
   "source": [
    "def binmap(map2d, x, y, rbin):\n",
    "\n",
    "    '''Bin a 2d map into a 1d symmteric radial profile (i.e. for B_l or radial profile)'''\n",
    "    X, Y = np.meshgrid(x, y)\n",
    "    R = np.sqrt(X**2+Y**2)\n",
    "    print(R.shape)\n",
    "    d = np.digitize(R.flatten(), rbin)\n",
    "    rbin1d = np.zeros(len(rbin))\n",
    "    bin1d = np.zeros(len(rbin))\n",
    "    binvar = np.zeros(len(rbin))\n",
    "    binerr = np.zeros(len(rbin))\n",
    "    for i in range (len(rbin)):\n",
    "        rbin1d[i] = np.mean(R.flatten()[d==i+1])\n",
    "        bin1d[i] = np.mean(map2d.flatten()[d==i+1])\n",
    "        binvar[i] = np.var(map2d.flatten()[d==i+1])\n",
    "        binerr[i] = np.sqrt(np.var(map2d.flatten()[d==i]) / len(map2d.flatten()[d==i+1]))\n",
    "    return  rbin1d, bin1d, binvar, binerr"
   ]
  },
  {
   "cell_type": "code",
   "execution_count": 3,
   "metadata": {},
   "outputs": [],
   "source": [
    "def central_emission(hmap, map_w, pixel_w, max_sep):\n",
    "    #Returns the average surface brightness in Jy/pixel of pixels within max_sep of the center of hmap (assuming hmap has units MJy/pixel)\n",
    "    center = map_w + 0.5\n",
    "    \n",
    "    emission = 0\n",
    "    div = 0\n",
    "    \n",
    "    for i in range(2*map_w):\n",
    "        for j in range(2*map_w):\n",
    "            if pixel_w*np.sqrt((center-i)**2+(center-j)**2) <= max_sep:\n",
    "                emission += hmap[i,j]\n",
    "                div +=1\n",
    "    return emission, div"
   ]
  },
  {
   "cell_type": "code",
   "execution_count": 4,
   "metadata": {},
   "outputs": [],
   "source": [
    "path = '/project/r/rbond/jorlo/Reductions/data/'\n",
    "\n",
    "#MS0736\n",
    "#fname = 'amp_1_amp_2_amp_poly_sub_pred2_data__initial_svd.fits'\n",
    "\n",
    "#MOO1142\n",
    "fname = 'MOO_1142FP-First_Pord2_v0_2020-06-24_nFFT1_TS_EaCMS0f0_51_17_Feb_2020-_svd20-2_arcsec_autograd_initial_svd.fits'\n",
    "\n",
    "hdu = fits.open(path+fname)\n",
    "data = hdu[0].data\n",
    "\n",
    "w = wcs.WCS(hdu[0].header, hdu)"
   ]
  },
  {
   "cell_type": "code",
   "execution_count": 5,
   "metadata": {},
   "outputs": [],
   "source": [
    "\n",
    "#MS0735 cent\n",
    "#cur_center = SkyCoord(Angle('07 41 44.5 hours').to(u.radian).value, Angle('74:14:38.7 degrees').to(u.radian).value, unit = \"rad\")\n",
    "\n",
    "#MOO1142\n",
    "cur_center = SkyCoord(3.0665111128123264, 0.2697068189809627, unit = 'rad')\n",
    "x,y = wcs.utils.skycoord_to_pixel(cur_center, w)\n",
    "\n",
    "x, y = round(x.item()), round(y.item())"
   ]
  },
  {
   "cell_type": "code",
   "execution_count": 52,
   "metadata": {},
   "outputs": [],
   "source": [
    "bounds = 5"
   ]
  },
  {
   "cell_type": "code",
   "execution_count": 53,
   "metadata": {},
   "outputs": [],
   "source": [
    "zoom_data = data[y-bounds:y+bounds, x-bounds:x+bounds]"
   ]
  },
  {
   "cell_type": "code",
   "execution_count": 54,
   "metadata": {},
   "outputs": [
    {
     "data": {
      "text/plain": [
       "<matplotlib.image.AxesImage at 0x7fd364f3ba90>"
      ]
     },
     "execution_count": 54,
     "metadata": {},
     "output_type": "execute_result"
    },
    {
     "data": {
      "image/png": "[encoded data removed]",
      "text/plain": [
       "<Figure size 432x288 with 1 Axes>"
      ]
     },
     "metadata": {
      "needs_background": "light"
     },
     "output_type": "display_data"
    }
   ],
   "source": [
    "plt.imshow(zoom_data)#, vmin = -1e-3, vmax = 1e-3)"
   ]
  },
  {
   "cell_type": "code",
   "execution_count": 55,
   "metadata": {},
   "outputs": [
    {
     "name": "stdout",
     "output_type": "stream",
     "text": [
      "(10, 10)\n"
     ]
    }
   ],
   "source": [
    "rbin1d, bin1d, binvar, binerr = binmap(zoom_data, np.linspace(-bounds+1, bounds-1, bounds*2), np.linspace(-bounds+1, bounds-1, bounds*2), rbin = np.linspace(0, bounds, bounds))\n",
    "\n",
    "binerr[0] = binerr[1] #gotta fix that"
   ]
  },
  {
   "cell_type": "code",
   "execution_count": 56,
   "metadata": {},
   "outputs": [
    {
     "data": {
      "text/plain": [
       "array([8.79954034e-05, 8.79954034e-05, 7.26842556e-05, 6.47164660e-05,\n",
       "       1.08529413e-04])"
      ]
     },
     "execution_count": 56,
     "metadata": {},
     "output_type": "execute_result"
    }
   ],
   "source": [
    "binerr"
   ]
  },
  {
   "cell_type": "code",
   "execution_count": 57,
   "metadata": {
    "scrolled": true
   },
   "outputs": [
    {
     "data": {
      "text/plain": [
       "<ErrorbarContainer object of 3 artists>"
      ]
     },
     "execution_count": 57,
     "metadata": {},
     "output_type": "execute_result"
    },
    {
     "data": {
      "image/png": "[encoded data removed]",
      "text/plain": [
       "<Figure size 432x288 with 1 Axes>"
      ]
     },
     "metadata": {
      "needs_background": "light"
     },
     "output_type": "display_data"
    }
   ],
   "source": [
    "\n",
    "\n",
    "plt.errorbar(rbin1d, bin1d, yerr=binerr)"
   ]
  },
  {
   "cell_type": "code",
   "execution_count": 58,
   "metadata": {},
   "outputs": [],
   "source": [
    "def gauss(x, *p):\n",
    "    #print(p)\n",
    "    A, sigma, m, b = p\n",
    "    return A*np.exp(-(x)**2/(2.*sigma**2))+m*x + b\n",
    "residual = lambda p, x, y, yerr: (gauss(x, *p)-y)/yerr"
   ]
  },
  {
   "cell_type": "code",
   "execution_count": 59,
   "metadata": {},
   "outputs": [],
   "source": [
    "# p0 is the initial guess for the fitting coefficients (A, mu and sigma above)\n",
    "p0 = [1., 1., 0.001, -.0001]\n",
    "\n",
    "pf, var_matrix = curve_fit(gauss, rbin1d, bin1d, p0=p0)\n",
    "#pf, cov, info, mesg, success = leastsq(residual, p0,\n",
    "#                                                args=(rbin1d, bin1d, binerr), full_output=1)\n"
   ]
  },
  {
   "cell_type": "code",
   "execution_count": 60,
   "metadata": {},
   "outputs": [
    {
     "data": {
      "text/plain": [
       "array([ 2.00392663e-03,  2.05736682e+00,  6.57481345e-05, -8.96701695e-04])"
      ]
     },
     "execution_count": 60,
     "metadata": {},
     "output_type": "execute_result"
    }
   ],
   "source": [
    "pf"
   ]
  },
  {
   "cell_type": "code",
   "execution_count": 61,
   "metadata": {},
   "outputs": [
    {
     "data": {
      "text/plain": [
       "<ErrorbarContainer object of 3 artists>"
      ]
     },
     "execution_count": 61,
     "metadata": {},
     "output_type": "execute_result"
    },
    {
     "data": {
      "image/png": "[encoded data removed]",
      "text/plain": [
       "<Figure size 432x288 with 1 Axes>"
      ]
     },
     "metadata": {
      "needs_background": "light"
     },
     "output_type": "display_data"
    }
   ],
   "source": [
    "rbin = np.linspace(0, bounds, 10*bounds)\n",
    "\n",
    "plt.plot(rbin, gauss(rbin, *pf))\n",
    "plt.errorbar(rbin1d, bin1d, yerr=binerr)"
   ]
  },
  {
   "cell_type": "code",
   "execution_count": 42,
   "metadata": {},
   "outputs": [
    {
     "data": {
      "text/plain": [
       "0.0012314598053232418"
      ]
     },
     "execution_count": 42,
     "metadata": {},
     "output_type": "execute_result"
    }
   ],
   "source": [
    "0.00055555555555556*pf[1]"
   ]
  },
  {
   "cell_type": "code",
   "execution_count": null,
   "metadata": {},
   "outputs": [],
   "source": []
  }
 ],
 "metadata": {
  "kernelspec": {
   "display_name": "actmadcows",
   "language": "python",
   "name": "actmadcows"
  },
  "language_info": {
   "codemirror_mode": {
    "name": "ipython",
    "version": 3
   },
   "file_extension": ".py",
   "mimetype": "text/x-python",
   "name": "python",
   "nbconvert_exporter": "python",
   "pygments_lexer": "ipython3",
   "version": "3.8.5"
  }
 },
 "nbformat": 4,
 "nbformat_minor": 4
}
